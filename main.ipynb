{
 "cells": [
  {
   "cell_type": "code",
   "execution_count": 24,
   "metadata": {},
   "outputs": [],
   "source": [
    "import pandas as pd\n",
    "import numpy as np\n",
    "import matplotlib.pyplot as plt\n",
    "import os "
   ]
  },
  {
   "cell_type": "code",
   "execution_count": 25,
   "metadata": {},
   "outputs": [
    {
     "data": {
      "text/html": [
       "<div>\n",
       "<style scoped>\n",
       "    .dataframe tbody tr th:only-of-type {\n",
       "        vertical-align: middle;\n",
       "    }\n",
       "\n",
       "    .dataframe tbody tr th {\n",
       "        vertical-align: top;\n",
       "    }\n",
       "\n",
       "    .dataframe thead th {\n",
       "        text-align: right;\n",
       "    }\n",
       "</style>\n",
       "<table border=\"1\" class=\"dataframe\">\n",
       "  <thead>\n",
       "    <tr style=\"text-align: right;\">\n",
       "      <th></th>\n",
       "      <th>Pulsos</th>\n",
       "      <th>Litros</th>\n",
       "    </tr>\n",
       "  </thead>\n",
       "  <tbody>\n",
       "    <tr>\n",
       "      <th>0</th>\n",
       "      <td>1621</td>\n",
       "      <td>3832</td>\n",
       "    </tr>\n",
       "    <tr>\n",
       "      <th>1</th>\n",
       "      <td>1691</td>\n",
       "      <td>3990</td>\n",
       "    </tr>\n",
       "    <tr>\n",
       "      <th>2</th>\n",
       "      <td>1685</td>\n",
       "      <td>3983</td>\n",
       "    </tr>\n",
       "    <tr>\n",
       "      <th>3</th>\n",
       "      <td>1719</td>\n",
       "      <td>4064</td>\n",
       "    </tr>\n",
       "    <tr>\n",
       "      <th>4</th>\n",
       "      <td>1621</td>\n",
       "      <td>3832</td>\n",
       "    </tr>\n",
       "    <tr>\n",
       "      <th>5</th>\n",
       "      <td>1654</td>\n",
       "      <td>3910</td>\n",
       "    </tr>\n",
       "    <tr>\n",
       "      <th>6</th>\n",
       "      <td>1699</td>\n",
       "      <td>4017</td>\n",
       "    </tr>\n",
       "    <tr>\n",
       "      <th>7</th>\n",
       "      <td>1672</td>\n",
       "      <td>3953</td>\n",
       "    </tr>\n",
       "    <tr>\n",
       "      <th>8</th>\n",
       "      <td>1705</td>\n",
       "      <td>4031</td>\n",
       "    </tr>\n",
       "    <tr>\n",
       "      <th>9</th>\n",
       "      <td>1684</td>\n",
       "      <td>3091</td>\n",
       "    </tr>\n",
       "    <tr>\n",
       "      <th>10</th>\n",
       "      <td>1659</td>\n",
       "      <td>3922</td>\n",
       "    </tr>\n",
       "    <tr>\n",
       "      <th>11</th>\n",
       "      <td>1678</td>\n",
       "      <td>3967</td>\n",
       "    </tr>\n",
       "    <tr>\n",
       "      <th>12</th>\n",
       "      <td>1669</td>\n",
       "      <td>3946</td>\n",
       "    </tr>\n",
       "    <tr>\n",
       "      <th>13</th>\n",
       "      <td>1648</td>\n",
       "      <td>3896</td>\n",
       "    </tr>\n",
       "    <tr>\n",
       "      <th>14</th>\n",
       "      <td>1695</td>\n",
       "      <td>4007</td>\n",
       "    </tr>\n",
       "    <tr>\n",
       "      <th>15</th>\n",
       "      <td>1694</td>\n",
       "      <td>4005</td>\n",
       "    </tr>\n",
       "    <tr>\n",
       "      <th>16</th>\n",
       "      <td>1646</td>\n",
       "      <td>3891</td>\n",
       "    </tr>\n",
       "    <tr>\n",
       "      <th>17</th>\n",
       "      <td>1640</td>\n",
       "      <td>3877</td>\n",
       "    </tr>\n",
       "    <tr>\n",
       "      <th>18</th>\n",
       "      <td>1646</td>\n",
       "      <td>3891</td>\n",
       "    </tr>\n",
       "    <tr>\n",
       "      <th>19</th>\n",
       "      <td>1713</td>\n",
       "      <td>4050</td>\n",
       "    </tr>\n",
       "  </tbody>\n",
       "</table>\n",
       "</div>"
      ],
      "text/plain": [
       "    Pulsos  Litros\n",
       "0     1621    3832\n",
       "1     1691    3990\n",
       "2     1685    3983\n",
       "3     1719    4064\n",
       "4     1621    3832\n",
       "5     1654    3910\n",
       "6     1699    4017\n",
       "7     1672    3953\n",
       "8     1705    4031\n",
       "9     1684    3091\n",
       "10    1659    3922\n",
       "11    1678    3967\n",
       "12    1669    3946\n",
       "13    1648    3896\n",
       "14    1695    4007\n",
       "15    1694    4005\n",
       "16    1646    3891\n",
       "17    1640    3877\n",
       "18    1646    3891\n",
       "19    1713    4050"
      ]
     },
     "execution_count": 25,
     "metadata": {},
     "output_type": "execute_result"
    }
   ],
   "source": [
    "pulsos = pd.read_csv(\"PulsosPorLitro4\", delimiter=' ', header=None, names=['Pulsos', 'Litros'])\n",
    "vec_litros = pulsos['Litros'].to_list()\n",
    "vec_pulsos = pulsos['Pulsos'].to_list()\n",
    "#pulsos.set_index('Pulsos', inplace=True)\n",
    "pulsos"
   ]
  },
  {
   "cell_type": "code",
   "execution_count": 26,
   "metadata": {},
   "outputs": [
    {
     "name": "stdout",
     "output_type": "stream",
     "text": [
      "\n",
      "Media dos Pulsos: 1671.95\n",
      "\n",
      "Erro relativo dos Pulsos: 0.01696284026769833\n"
     ]
    }
   ],
   "source": [
    "media_pulsos = np.mean(vec_pulsos) \n",
    "desvioP = np.std(vec_pulsos)\n",
    "erroRel = desvioP / media_pulsos\n",
    "\n",
    "print(f\"\\nMedia dos Pulsos: {media_pulsos}\")\n",
    "print(f\"\\nErro relativo dos Pulsos: {erroRel}\")"
   ]
  },
  {
   "cell_type": "code",
   "execution_count": 27,
   "metadata": {},
   "outputs": [
    {
     "name": "stdout",
     "output_type": "stream",
     "text": [
      "\n",
      "Media dos Litros: 3907.75\n",
      "\n",
      "Erro relativo dos Litros: 0.050889769131295566\n",
      "Erro da medida: 907.75 ----- > 30.258333333333333%\n"
     ]
    }
   ],
   "source": [
    "media_litros = np.mean(vec_litros)\n",
    "desvioPad = np.std(vec_litros)\n",
    "erroRel = desvioPad / media_litros\n",
    "\n",
    "print(f\"\\nMedia dos Litros: {media_litros}\")\n",
    "print(f\"\\nErro relativo dos Litros: {erroRel}\")\n",
    "\n",
    "#Robert erro\n",
    "valor_medido = vec_litros\n",
    "\n",
    "error_medida = []\n",
    "for i in range(len(vec_litros)):\n",
    "    error_medida.append(vec_litros[i] - 3000)\n",
    "erroMedida_Media = abs(np.mean(error_medida))\n",
    "erro_porcentagem = (erroMedida_Media/3000)*100\n",
    "print(f\"Erro da medida: {erroMedida_Media} ----- > {erro_porcentagem}%\")"
   ]
  },
  {
   "cell_type": "code",
   "execution_count": 28,
   "metadata": {},
   "outputs": [
    {
     "data": {
      "image/png": "[encoded data removed]",
      "text/plain": [
       "<Figure size 800x600 with 1 Axes>"
      ]
     },
     "metadata": {},
     "output_type": "display_data"
    }
   ],
   "source": [
    "plt.figure(figsize=(8, 6))\n",
    "relative_litros = []\n",
    "for i in range(len(vec_litros)):\n",
    "    relative_litros.append(vec_litros[i] - 4000)\n",
    "plt.scatter(vec_pulsos, relative_litros, color='red', alpha=0.6)\n",
    "plt.title('Relação entre Pulsos e Litros')\n",
    "plt.xlabel('Pulsos')\n",
    "plt.ylabel('Litros')\n",
    "plt.show()\n"
   ]
  },
  {
   "cell_type": "code",
   "execution_count": 29,
   "metadata": {},
   "outputs": [],
   "source": [
    "pulsos = pd.read_csv(\"PulsosPorLitro4\", delimiter=' ', header=None, names=['Pulsos', 'Litros'])\n",
    "vec_litros = pulsos['Litros'].to_list()\n",
    "vec_pulsos = pulsos['Pulsos'].to_list()"
   ]
  },
  {
   "cell_type": "code",
   "execution_count": 30,
   "metadata": {},
   "outputs": [
    {
     "name": "stdout",
     "output_type": "stream",
     "text": [
      "\n",
      "Media dos Pulsos: 1671.95\n",
      "\n",
      "Erro relativo dos Pulsos: 0.01696284026769833\n"
     ]
    }
   ],
   "source": [
    "media_pulsos = np.mean(vec_pulsos) \n",
    "desvioP = np.std(vec_pulsos)\n",
    "erroRel = desvioP / media_pulsos\n",
    "\n",
    "print(f\"\\nMedia dos Pulsos: {media_pulsos}\")\n",
    "print(f\"\\nErro relativo dos Pulsos: {erroRel}\")"
   ]
  },
  {
   "cell_type": "code",
   "execution_count": 31,
   "metadata": {},
   "outputs": [
    {
     "name": "stdout",
     "output_type": "stream",
     "text": [
      "\n",
      "Media dos Litros: 3907.75\n",
      "\n",
      "Erro relativo dos Litros: 0.050889769131295566\n",
      "Erro da medida: 92.25 ----- > 2.30625%\n"
     ]
    }
   ],
   "source": [
    "media_litros = np.mean(vec_litros)\n",
    "desvioPad = np.std(vec_litros)\n",
    "erroRel = desvioPad / media_litros\n",
    "\n",
    "print(f\"\\nMedia dos Litros: {media_litros}\")\n",
    "print(f\"\\nErro relativo dos Litros: {erroRel}\")\n",
    "\n",
    "#Erro medida\n",
    "valor_medido = vec_litros\n",
    "erro_medida = []\n",
    "\n",
    "for i in range(len(vec_litros)):\n",
    "    erro_medida.append(vec_litros[i] - 4000)\n",
    "erroMedidaMedia = abs(np.mean(erro_medida))\n",
    "erro_porcentagem = (erroMedidaMedia/4000)*100\n",
    "print(f\"Erro da medida: {erroMedidaMedia} ----- > {erro_porcentagem}%\")"
   ]
  }
 ],
 "metadata": {
  "kernelspec": {
   "display_name": "Python 3",
   "language": "python",
   "name": "python3"
  },
  "language_info": {
   "codemirror_mode": {
    "name": "ipython",
    "version": 3
   },
   "file_extension": ".py",
   "mimetype": "text/x-python",
   "name": "python",
   "nbconvert_exporter": "python",
   "pygments_lexer": "ipython3",
   "version": "3.10.12"
  }
 },
 "nbformat": 4,
 "nbformat_minor": 2
}
